{
 "cells": [
  {
   "cell_type": "markdown",
   "source": [
    "# Transfer learning и ResNet\n",
    " В этот раз мы продолжим работать с изображениями с помощью нейронных сетей. В этот раз мы обсудим, как адаптировать уже существующие обученные модели для своих задач"
   ],
   "metadata": {
    "collapsed": false
   }
  },
  {
   "cell_type": "markdown",
   "source": [
    "План:\n",
    "- ResNet\n",
    "- transfer learning и fine-tuning\n",
    "- Визуализация модели\n",
    "- Torchmetrics, scheduler, ???"
   ],
   "metadata": {
    "collapsed": false
   }
  },
  {
   "cell_type": "code",
   "execution_count": null,
   "outputs": [],
   "source": [
    "import glob\n",
    "import warnings\n",
    "\n",
    "import matplotlib.pyplot as plt\n",
    "import numpy as np\n",
    "import torch\n",
    "import torchmetrics\n",
    "import tqdm\n",
    "from torch import nn\n",
    "from torchvision.datasets import ImageFolder\n",
    "from torchvision.transforms import Compose, Normalize, Resize, ToTensor\n",
    "\n",
    "%matplotlib inline\n",
    "warnings.filterwarnings(\"ignore\")\n",
    "\n",
    "device = \"cuda:0\" if torch.cuda.is_available() else \"cpu\""
   ],
   "metadata": {
    "collapsed": false
   }
  },
  {
   "cell_type": "code",
   "execution_count": null,
   "outputs": [],
   "source": [
    "from utils.common import seed_everything\n",
    "seed_everything(123)"
   ],
   "metadata": {
    "collapsed": false
   }
  },
  {
   "cell_type": "code",
   "execution_count": null,
   "outputs": [],
   "source": [
    "DATA_PATH = \"D:\\data\\spbu_dl\\genshin\"\n",
    "# TODO: change path to yours!"
   ],
   "metadata": {
    "collapsed": false
   }
  },
  {
   "cell_type": "code",
   "execution_count": null,
   "outputs": [],
   "source": [
    "dataset = ImageFolder(\n",
    "    DATA_PATH,\n",
    "    transform=Compose(\n",
    "        [\n",
    "            Resize((224, 224)),\n",
    "            ToTensor(),\n",
    "            Normalize((0.5, 0.5, 0.5), (1, 1, 1)),\n",
    "        ]\n",
    "    ),\n",
    ")\n",
    "train_set, val_set = torch.utils.data.random_split(\n",
    "    dataset, [int(0.8 * len(dataset)), len(dataset) - int(0.8 * len(dataset))]\n",
    ")\n",
    "\n",
    "train_dataloader = torch.utils.data.DataLoader(train_set, batch_size=16, shuffle=True)\n",
    "val_dataloader = torch.utils.data.DataLoader(val_set, batch_size=16, shuffle=False)"
   ],
   "metadata": {
    "collapsed": false
   }
  },
  {
   "cell_type": "markdown",
   "source": [
    "*Задание*: выведите случайный элемент датасета"
   ],
   "metadata": {
    "collapsed": false
   }
  },
  {
   "cell_type": "code",
   "execution_count": null,
   "outputs": [],
   "source": [
    "# < YOUR CODE >"
   ],
   "metadata": {
    "collapsed": false
   }
  },
  {
   "cell_type": "code",
   "execution_count": null,
   "outputs": [],
   "source": [
    "# выведите 352 семпл"
   ],
   "metadata": {
    "collapsed": false
   }
  },
  {
   "cell_type": "markdown",
   "source": [
    "Тут мы сталкиваемся с двумя проблемами сразу:\n",
    "- датасет очень маленький, и собирать его руками достаточно сложно\n",
    "- если мы попробуем обучить какую-то модель с нуля, это может занять очень много времени\n",
    "\n",
    "К тому же, наши картинки еще довольно похожи на стандартные изображения. Поэтому можно попытаться как-то перенести уже полученные знания какой-то крутой модели на свою задачу.\n",
    "Чаще всего для этого ипользуется файн-тюнинг.\n",
    "\n",
    "Идея у него проста: модель, когда-то обученная на большом датасете, уже умеет выделять какие-то хорошие признаки из входных данных, поэтому мы можем взять ее веса и немного поменять их, чтобы она лучше понимала новую задачу.\n"
   ],
   "metadata": {
    "collapsed": false
   }
  },
  {
   "cell_type": "markdown",
   "source": [
    "## ResNet\n",
    "Исследователи заметили, что когда речь идет о сверточных нейронных сетях, чем модель глубже, тем лучше. Это имеет смысл, потому что их гибкость в адаптации к любому пространству увеличивается с увеличением числа параметров). Однако было замечено, что начиная с некоторй глубины, точность перестает увеличиваться, а наоборот, начинает падать.\n",
    "*Вопрос:* с чем связано это явление?\n",
    "\n",
    "Так появилось семейство ResNet. Идея проста: еслт модель может предсказать $f(x)$, то может предсказать и $f(x) - x$.\n",
    "Это очень полезно, так как позволяет улучшить обучаемость моделей. (Чем?)\n",
    "![alt_text](../additional_materials/images/resnet.png)\n",
    "\n",
    "В модели это реализовано следующим образом: к выходу слоя можно добавить его же вход (что распространяется и на более длинные связи).\n",
    "\n",
    "Обычный блок выглядит примерно следующим образом:\n",
    "\n",
    "Input: x\n",
    "\n",
    "[Conv 3x3]\n",
    "[Batch Normalization]\n",
    "[Activation (e.g., ReLU)]\n",
    "[Conv 3x3]\n",
    "[Batch Normalization]\n",
    "\n",
    "Add: x + F(x) (Output from the above layers)\n",
    "[Activation (e.g., ReLU)]\n"
   ],
   "metadata": {
    "collapsed": false
   }
  },
  {
   "cell_type": "markdown",
   "source": [
    "Глубокие варианты используют не двухслойные блоки, но также и bottleneck блоки, которые состоят из трех сверточных слоев следующего вида:\n",
    "\n",
    "[Conv 1x1]\n",
    "[BN + ReLU]\n",
    "[Conv 3x3]\n",
    "[BN + ReLU]\n",
    "[Conv 1x1]\n",
    "[BN]\n",
    "\n",
    "*Вопрос*: Почему используются блоки 3x3?\n",
    "*Вопрос 2*: А почему по два таких слоя в блоке, а не один?\n"
   ],
   "metadata": {
    "collapsed": false
   }
  },
  {
   "cell_type": "markdown",
   "source": [
    "В библиотеке torchvision имплементировано не только большое множество моделей (всевозможные ResNet'ы, Inception, VGG, AlexNet, DenseNet, ResNext, WideResNet, MobileNet...), но и загружены чекпоинты обучения этих моделей на ImageNet."
   ],
   "metadata": {
    "collapsed": false
   }
  },
  {
   "cell_type": "code",
   "execution_count": null,
   "outputs": [],
   "source": [
    "from torchvision.models import resnet18"
   ],
   "metadata": {
    "collapsed": false
   }
  },
  {
   "cell_type": "code",
   "execution_count": null,
   "outputs": [],
   "source": [
    "model = resnet18(pretrained=True)"
   ],
   "metadata": {
    "collapsed": false
   }
  },
  {
   "cell_type": "code",
   "execution_count": null,
   "outputs": [],
   "source": [
    "# выведите модель"
   ],
   "metadata": {
    "collapsed": false
   }
  },
  {
   "cell_type": "markdown",
   "source": [
    "## Transfer learning\n",
    "В задаче transfer learning'a последний слой нейросети заменяется на линейный с нужным числом выходов, а веса остальных слоёв \"замораживаются\".\n",
    "Иногда делают полный файнтюн, тогда основные веса тоже обучаются, но в таком случае нужно задавать очень маленькие значения скорости обучения, чтобы не забыть то, что модель выучила раньше"
   ],
   "metadata": {
    "collapsed": false
   }
  },
  {
   "cell_type": "markdown",
   "source": [
    "Задание: определите, сколько классов в нашем датасете"
   ],
   "metadata": {
    "collapsed": false
   }
  },
  {
   "cell_type": "code",
   "execution_count": null,
   "outputs": [],
   "source": [
    "# YOUR CODE"
   ],
   "metadata": {
    "collapsed": false
   }
  },
  {
   "cell_type": "markdown",
   "source": [
    "Теперь научимся загружать веса нашей модели, а также переделывать ее под свои нужды."
   ],
   "metadata": {
    "collapsed": false
   }
  },
  {
   "cell_type": "code",
   "execution_count": null,
   "outputs": [],
   "source": [
    "def get_model(\n",
    "        pretrained: bool = True, num_out_classes: int=10\n",
    "):\n",
    "    if pretrained:\n",
    "        model = resnet18(pretrained=True)\n",
    "        # freeze parameters of original model\n",
    "        for param in model.parameters():\n",
    "            param.requires_grad = False\n",
    "        model.fc = nn.Linear(model.fc.in_features, num_out_classes)\n",
    "    else:\n",
    "        # <YOUR CODE>\n",
    "    return model\n"
   ],
   "metadata": {
    "collapsed": false
   }
  },
  {
   "cell_type": "markdown",
   "source": [
    "Проверим нашу функцию"
   ],
   "metadata": {
    "collapsed": false
   }
  },
  {
   "cell_type": "code",
   "execution_count": null,
   "outputs": [],
   "source": [
    "model = get_model(pretrained=True, num_out_classes=5)"
   ],
   "metadata": {
    "collapsed": false
   }
  },
  {
   "cell_type": "code",
   "execution_count": null,
   "outputs": [],
   "source": [
    "optimizer = # задайте оптимизатор"
   ],
   "metadata": {
    "collapsed": false
   }
  },
  {
   "cell_type": "code",
   "execution_count": null,
   "outputs": [],
   "source": [
    "# Проверьте, задан ли градиент у какого-нибудь слоя из тела модели (это все, что не голова)"
   ],
   "metadata": {
    "collapsed": false
   }
  },
  {
   "cell_type": "code",
   "execution_count": null,
   "outputs": [],
   "source": [
    "loss = # задайте подходящий лосс"
   ],
   "metadata": {
    "collapsed": false
   }
  },
  {
   "cell_type": "markdown",
   "source": [
    "В этом ноутбуке мы рассмотрим еще очень полезную библиотеку, которая поможет нам считать метрики качества."
   ],
   "metadata": {
    "collapsed": false
   }
  },
  {
   "cell_type": "code",
   "execution_count": null,
   "outputs": [],
   "source": [
    "import torchmetrics\n",
    "metric = torchmetrics.Accuracy(\n",
    "    task=\"multiclass\",\n",
    "    num_classes=5\n",
    ")"
   ],
   "metadata": {
    "collapsed": false
   }
  },
  {
   "cell_type": "markdown",
   "source": [
    "*Задание*: добавьте метрики Precision, recall.\n",
    "*Задание 2*: сравните метрики с reduction=micro, macro. Ответьте, в чем разница и в каких ситуациях та или иная настройка лучше отражает качество предсказаний."
   ],
   "metadata": {
    "collapsed": false
   }
  },
  {
   "cell_type": "markdown",
   "source": [
    "Вспомним рутину: напишем обучающий цикл. Заполните функциии в нужных местах."
   ],
   "metadata": {
    "collapsed": false
   }
  },
  {
   "cell_type": "code",
   "execution_count": null,
   "outputs": [],
   "source": [
    "def train_epoch(\n",
    "    model: nn.Module,\n",
    "    data_loader: torch.utils.data.DataLoader,\n",
    "    criterion: nn.Module,\n",
    "    metric: torchmetrics.Metric,\n",
    "    optimizer: torch.optim.Optimizer,\n",
    "    return_losses=False,\n",
    "):\n",
    "    model = model.train()\n",
    "    total_loss = 0\n",
    "    num_batches = 0\n",
    "    all_losses = []\n",
    "    with tqdm.tqdm(total=len(data_loader)) as prbar:\n",
    "        for inputs, targets in data_loader:\n",
    "            # train step: preds, loss, optimization, etc\n",
    "            # <YOUR CODE>\n",
    "            # update description for tqdm\n",
    "            accuracy = metric(preds, targets)\n",
    "            prbar.set_description(\n",
    "                f\"Loss: {round(loss.item(), 4)} \"\n",
    "                f\"Accuracy: {round(accuracy.item() * 100, 4)}\"\n",
    "            )\n",
    "            prbar.update(1)\n",
    "            total_loss += loss.item()\n",
    "            num_batches += 1\n",
    "            all_losses.append(loss.detach().item())\n",
    "    acc = metric.compute()\n",
    "    metrics = {\"loss\": total_loss / num_batches, \"accuracy\": acc}\n",
    "    if return_losses:\n",
    "        return metrics, all_losses\n",
    "    else:\n",
    "        return metrics\n",
    "\n",
    "\n",
    "def validate(\n",
    "        model,\n",
    "        data_loader,\n",
    "        criterion,\n",
    "        metric,\n",
    "        device=\"cuda:0\"):\n",
    "    model = model.eval()\n",
    "    total_loss = 0\n",
    "    num_batches = 0\n",
    "    with tqdm.tqdm(total=len(data_loader)) as prbar:\n",
    "        for inputs, targets in data_loader:\n",
    "            with torch.no_grad():\n",
    "                # <YOUR CODE>\n",
    "                accuracy = # <YOUR CODE>\n",
    "            prbar.set_description(\n",
    "                f\"Loss: {round(loss.item(), 4)} \"\n",
    "                f\"Accuracy: {round(accuracy.item() * 100, 4)}\"\n",
    "            )\n",
    "            prbar.update(1)\n",
    "            total_loss += loss.item()\n",
    "            num_batches += 1\n",
    "    metrics = # <YOUR CODE>\n",
    "    return metrics"
   ],
   "metadata": {
    "collapsed": false
   }
  },
  {
   "cell_type": "markdown",
   "source": [
    "Иногда удобно сохранять данные в определенном формате. Один из возможных вариантов - namedtuple. Он похволяет как сохранять порядок элементов, так и использовать более понятную индексацию"
   ],
   "metadata": {
    "collapsed": false
   }
  },
  {
   "cell_type": "code",
   "execution_count": null,
   "outputs": [],
   "source": [
    "from collections import namedtuple\n",
    "\n",
    "LossInfo = namedtuple(\n",
    "    \"LossInfo\", [\"full_train_losses\", \"train_epoch_losses\", \"eval_epoch_losses\"]\n",
    ")\n",
    "EPOCHS = 10\n",
    "LR = 0.001"
   ],
   "metadata": {
    "collapsed": false
   }
  },
  {
   "cell_type": "markdown",
   "source": [],
   "metadata": {
    "collapsed": false
   }
  },
  {
   "cell_type": "code",
   "execution_count": null,
   "outputs": [],
   "source": [
    "def train(\n",
    "    model,\n",
    "    epochs,\n",
    "    train_data_loader,\n",
    "    validation_data_loader,\n",
    "    criterion,\n",
    "    metric,\n",
    "    optimizer,\n",
    "    scheduler=None,\n",
    "    device=\"cuda:0\",\n",
    "):\n",
    "    all_train_losses = []\n",
    "    epoch_train_losses = []\n",
    "    epoch_eval_losses = []\n",
    "    for epoch in range(epochs):\n",
    "        # construct iterators\n",
    "        train_iterator = iter(train_data_loader)\n",
    "        validation_iterator = iter(validation_data_loader)\n",
    "        # train step\n",
    "        print(f\"Train Epoch: {epoch}\")\n",
    "        train_metrics, one_epoch_train_losses = train_epoch(\n",
    "            model=model,\n",
    "            data_loader=train_iterator,\n",
    "            criterion=criterion,\n",
    "            metric=metric,\n",
    "            optimizer=optimizer,\n",
    "            return_losses=True,\n",
    "        )\n",
    "        # save train losses\n",
    "        all_train_losses.extend(one_epoch_train_losses)\n",
    "        epoch_train_losses.append(train_metrics[\"loss\"])\n",
    "        # eval step\n",
    "        print(f\"Validation Epoch: {epoch}\")\n",
    "\n",
    "        # call function validation epoch and\n",
    "        # save eval losses\n",
    "        # <YOUR CODE>\n",
    "        # scheduler step\n",
    "        if scheduler:\n",
    "            scheduler.step()\n",
    "    return LossInfo(all_train_losses, epoch_train_losses, epoch_eval_losses)"
   ],
   "metadata": {
    "collapsed": false
   }
  },
  {
   "cell_type": "code",
   "execution_count": null,
   "outputs": [],
   "source": [
    "model.to(device)\n",
    "_ = train(\n",
    "    model=model,\n",
    "    epochs=5,\n",
    "    train_data_loader=train_dataloader,\n",
    "    validation_data_loader=val_dataloader,\n",
    "    criterion=loss,\n",
    "    metric=metric,\n",
    "    optimizer=torch.optim.SGD(model.parameters(), lr=LR),\n",
    "    device=device,\n",
    ")"
   ],
   "metadata": {
    "collapsed": false
   }
  },
  {
   "cell_type": "markdown",
   "source": [
    "*Задание*: запустите обучение с использованием transfer learning и без него. В каком случае точность получилась выше?\n"
   ],
   "metadata": {
    "collapsed": false
   }
  },
  {
   "cell_type": "markdown",
   "source": [
    "# Визуализация сети"
   ],
   "metadata": {
    "collapsed": false
   }
  },
  {
   "cell_type": "markdown",
   "source": [
    "Каждый слой в CNN изучает фильтры возрастающей сложности. На первых слоях выучиваются простые признаки, такие как края и углы. Средние слои обнаруживают части объектов — что касается лиц, они могут научиться реагировать на глаза и носы. Последние слои имеют более высокоуровневые представления: они учатся распознавать объекты целиком, в различных формах и положениях.\n",
    "\n",
    "Мы попробуем проверить, так ли это, с помощью GradientExplainer, который использует ожидаемые градиенты для оценки входов в разные части модели. В целом, они аппроксимируют значения SHAP.\n",
    "\n",
    "Возьмем по 50 семплов для подсчёта ожидаемых градиентов и посмотрим на признаки первых слоёв ResNet."
   ],
   "metadata": {
    "collapsed": false
   }
  },
  {
   "cell_type": "code",
   "execution_count": null,
   "outputs": [],
   "source": [
    "model.eval()\n",
    "data = dataset[0]\n"
   ],
   "metadata": {
    "collapsed": false
   }
  },
  {
   "cell_type": "code",
   "execution_count": null,
   "outputs": [],
   "source": [
    "dataset.classes"
   ],
   "metadata": {
    "collapsed": false
   }
  },
  {
   "cell_type": "code",
   "execution_count": null,
   "outputs": [],
   "source": [
    "import shap\n",
    "to_explain = torch.stack([dataset[0][0], dataset[123][0]], dim=0)\n",
    "e = shap.GradientExplainer((model, model.layer1[0].conv2), to_explain)\n",
    "# receive shap_values\n",
    "shap_values, indexes = e.shap_values(\n",
    "    to_explain, ranked_outputs=4, nsamples=50\n",
    ")\n",
    "\n",
    "# plot the explanations\n",
    "#shap_values = [np.swapaxes(np.swapaxes(s, 2, 3), 1, -1) for s in shap_values]\n"
   ],
   "metadata": {
    "collapsed": false
   }
  },
  {
   "cell_type": "code",
   "execution_count": null,
   "outputs": [],
   "source": [
    "shap_values.shape"
   ],
   "metadata": {
    "collapsed": false
   }
  },
  {
   "cell_type": "code",
   "execution_count": null,
   "outputs": [],
   "source": [
    "shap.image_plot(shap_values[0], to_explain.detach().cpu().numpy())"
   ],
   "metadata": {
    "collapsed": false
   }
  },
  {
   "cell_type": "code",
   "execution_count": null,
   "outputs": [],
   "source": [
    "shap.image_plot(shap_values[1], to_explain.detach().cpu().numpy())"
   ],
   "metadata": {
    "collapsed": false
   }
  },
  {
   "cell_type": "markdown",
   "source": [
    "Повторите для второго слоя"
   ],
   "metadata": {
    "collapsed": false
   }
  },
  {
   "cell_type": "code",
   "execution_count": null,
   "outputs": [],
   "source": [
    "# YOUR CODE"
   ],
   "metadata": {
    "collapsed": false
   }
  },
  {
   "cell_type": "code",
   "execution_count": null,
   "outputs": [],
   "source": [
    "# YOUR CODE"
   ],
   "metadata": {
    "collapsed": false
   }
  },
  {
   "cell_type": "markdown",
   "source": [
    "Повторите для 4 слоя)"
   ],
   "metadata": {
    "collapsed": false
   }
  },
  {
   "cell_type": "code",
   "execution_count": null,
   "outputs": [],
   "source": [
    "# YOUR CODE"
   ],
   "metadata": {
    "collapsed": false
   }
  },
  {
   "cell_type": "markdown",
   "source": [
    "Но это не единственный способ заглянуть внутрь модели. Простейший вариант - оценить значения активаций на внутренних слоях. Можно было бы вывести веса, но они, к сожалению, не слишком интерпретируемы. Активации же показывают силу реакции конкретного фильтра."
   ],
   "metadata": {
    "collapsed": false
   }
  },
  {
   "cell_type": "markdown",
   "source": [
    "Далее попробуем посмотреть на значения активаций при при проходе через изображение. В этом нам помогут хуки - эти функции позволяют получить доступ к состоянию между слоями (как входа, так и выхода слоя)\n",
    "для визуализации, трансфер-лернинга, дебага модели итд."
   ],
   "metadata": {
    "collapsed": false
   }
  },
  {
   "cell_type": "code",
   "execution_count": null,
   "outputs": [],
   "source": [
    "activations = {}\n",
    "\n",
    "# Function to create a hook\n",
    "def get_activation(name):\n",
    "    def hook(model, input, output):\n",
    "        activations[name] = output.detach()\n",
    "    return hook\n",
    "\n",
    "# For example, let's hook into the first convolutional layer and the first block of layer1\n",
    "model.conv1.register_forward_hook(get_activation('conv1'))\n",
    "model.layer1[0].register_forward_hook(get_activation('layer1_block1'))\n"
   ],
   "metadata": {
    "collapsed": false
   }
  },
  {
   "cell_type": "code",
   "execution_count": null,
   "outputs": [],
   "source": [
    "# Function to visualize feature maps\n",
    "def visualize_feature_maps(activation, title, num_cols=8):\n",
    "    num_feature_maps = activation.shape[0]\n",
    "    num_rows = num_feature_maps // num_cols\n",
    "    plt.figure(figsize=(num_cols, num_rows))\n",
    "    for i in range(num_feature_maps):\n",
    "\n",
    "        if i >= num_cols * num_rows:\n",
    "            break\n",
    "        plt.subplot(num_rows, num_cols, i+1)\n",
    "        plt.imshow(activation[i].cpu().numpy(), cmap='coolwarm')\n",
    "        plt.axis('off')\n",
    "    plt.suptitle(title)\n",
    "    plt.show()\n",
    "\n",
    "#"
   ],
   "metadata": {
    "collapsed": false
   }
  },
  {
   "cell_type": "markdown",
   "source": [
    "Выведите значения активаций"
   ],
   "metadata": {
    "collapsed": false
   }
  },
  {
   "cell_type": "code",
   "execution_count": null,
   "outputs": [],
   "source": [
    "# Perform a forward pass\n",
    "with torch.no_grad():\n",
    "    # прогоните модель для первого элемента датасета\n",
    "    output = model(#your code)\n"
   ],
   "metadata": {
    "collapsed": false
   }
  },
  {
   "cell_type": "code",
   "execution_count": null,
   "outputs": [],
   "source": [
    "for name, activation in activations.items():\n",
    "    # For convolutional layers, activation shape is (batch_size, num_channels, H, W)\n",
    "    act = activation[0]\n",
    "    act = act - act.min() # Почему нужно нормализовать?\n",
    "    act = act / act.max()\n",
    "    visualize_feature_maps(act, title=f'Activations from {name}')"
   ],
   "metadata": {
    "collapsed": false
   }
  },
  {
   "cell_type": "code",
   "execution_count": null,
   "outputs": [],
   "source": [
    "# попробуйте добавить хук и для 4 слоя. Какие значения у активаций? Похоже ли это на то, что мы видели для shap values?"
   ],
   "metadata": {
    "collapsed": false
   }
  },
  {
   "cell_type": "code",
   "execution_count": null,
   "outputs": [],
   "source": [],
   "metadata": {
    "collapsed": false
   }
  }
 ],
 "metadata": {
  "kernelspec": {
   "name": "spbu_dl",
   "language": "python",
   "display_name": "spbu_dl"
  },
  "language_info": {
   "codemirror_mode": {
    "name": "ipython",
    "version": 2
   },
   "file_extension": ".py",
   "mimetype": "text/x-python",
   "name": "python",
   "nbconvert_exporter": "python",
   "pygments_lexer": "ipython2",
   "version": "2.7.6"
  }
 },
 "nbformat": 4,
 "nbformat_minor": 0
}
