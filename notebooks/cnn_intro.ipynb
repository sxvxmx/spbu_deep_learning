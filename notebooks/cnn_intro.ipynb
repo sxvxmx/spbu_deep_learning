{
 "cells": [
  {
   "cell_type": "markdown",
   "source": [
    "## Введение в обработку изображений и свертки"
   ],
   "metadata": {
    "collapsed": false
   }
  },
  {
   "cell_type": "code",
   "execution_count": null,
   "metadata": {
    "collapsed": true
   },
   "outputs": [],
   "source": [
    "import torch\n",
    "import numpy as np\n",
    "from PIL import Image\n",
    "from matplotlib import pyplot as plt\n",
    "IMAGE_PATH = \"../additional_materials/images\""
   ]
  },
  {
   "cell_type": "markdown",
   "source": [],
   "metadata": {
    "collapsed": false
   }
  },
  {
   "cell_type": "markdown",
   "source": [
    "## PIL, numpy, простые операции"
   ],
   "metadata": {
    "collapsed": false
   }
  },
  {
   "cell_type": "markdown",
   "source": [
    "Для начала немного поиграем с представлениями изображений. Наиболее удобный способ читать картинки - через pillow"
   ],
   "metadata": {
    "collapsed": false
   }
  },
  {
   "cell_type": "code",
   "execution_count": null,
   "outputs": [],
   "source": [
    "img = Image.open(f\"{IMAGE_PATH}/kot_mjaukaet.jpg\")"
   ],
   "metadata": {
    "collapsed": false
   }
  },
  {
   "cell_type": "code",
   "execution_count": null,
   "outputs": [],
   "source": [
    "plt.imshow(img)"
   ],
   "metadata": {
    "collapsed": false
   }
  },
  {
   "cell_type": "markdown",
   "source": [
    "Вопрос: как вы думаете, что не так после преобразования изображения в np?"
   ],
   "metadata": {
    "collapsed": false
   }
  },
  {
   "cell_type": "code",
   "execution_count": null,
   "outputs": [],
   "source": [
    "img_np = np.array(img)\n",
    "plt.imshow(255 - img_np)\n",
    "plt.show()"
   ],
   "metadata": {
    "collapsed": false
   }
  },
  {
   "cell_type": "code",
   "execution_count": null,
   "outputs": [],
   "source": [
    "img_np.shape"
   ],
   "metadata": {
    "collapsed": false
   }
  },
  {
   "cell_type": "markdown",
   "source": [
    "Вопрос: Что получится после выполнения следующего кода?"
   ],
   "metadata": {
    "collapsed": false
   }
  },
  {
   "cell_type": "code",
   "execution_count": null,
   "outputs": [],
   "source": [
    "img_np = img_np[..., [2,1,0]]"
   ],
   "metadata": {
    "collapsed": false
   }
  },
  {
   "cell_type": "code",
   "execution_count": null,
   "outputs": [],
   "source": [],
   "metadata": {
    "collapsed": false
   }
  },
  {
   "cell_type": "markdown",
   "source": [
    "Можно рассмотреть каждый канал отдельно"
   ],
   "metadata": {
    "collapsed": false
   }
  },
  {
   "cell_type": "code",
   "execution_count": null,
   "outputs": [],
   "source": [
    "from matplotlib import cm\n",
    "\n",
    "# выведите три графика, на каждом только один канал. Чтобы задать схему, используйте colormaps:\n",
    "# cmap=cm.Blues, etc"
   ],
   "metadata": {
    "collapsed": false
   }
  },
  {
   "cell_type": "markdown",
   "source": [
    "Можем кропнуть изображение"
   ],
   "metadata": {
    "collapsed": false
   }
  },
  {
   "cell_type": "code",
   "execution_count": null,
   "outputs": [],
   "source": [
    "plt.imshow(img.crop(box=(40, 40, 400, 450)))"
   ],
   "metadata": {
    "collapsed": false
   }
  },
  {
   "cell_type": "markdown",
   "source": [
    "**Задание**: кропните это изображение в numpy\n",
    "**Дополнительное задание 1**: напишите функцию, которая будет принимать на вход numpy array с изображением и возвращать случайный кроп этого изображения заданного размера\n",
    "Пример: random_crop(img_np, [30, 30]) -> img_np[0:30, 0:30]\n",
    "**Дополнительное задание 2**: Напишите то же самое, но с PIL.Image\n"
   ],
   "metadata": {
    "collapsed": false
   }
  },
  {
   "cell_type": "code",
   "execution_count": null,
   "outputs": [],
   "source": [],
   "metadata": {
    "collapsed": false
   }
  },
  {
   "cell_type": "markdown",
   "source": [
    "Конечно, можно и инвертировать изображение. Однако, многие продвинутые операции реализованы в модуле ImageChops"
   ],
   "metadata": {
    "collapsed": false
   }
  },
  {
   "cell_type": "code",
   "execution_count": null,
   "outputs": [],
   "source": [
    "from PIL import ImageChops\n",
    "img = ImageChops.invert(img)\n",
    "plt.imshow(img)"
   ],
   "metadata": {
    "collapsed": false
   }
  },
  {
   "cell_type": "markdown",
   "source": [
    "К тому же, изображение можно повернуть"
   ],
   "metadata": {
    "collapsed": false
   }
  },
  {
   "cell_type": "code",
   "execution_count": null,
   "outputs": [],
   "source": [
    "plt.imshow(img.rotate(45))"
   ],
   "metadata": {
    "collapsed": false
   }
  },
  {
   "cell_type": "code",
   "execution_count": null,
   "outputs": [],
   "source": [
    "cat2 = Image.open(f\"{IMAGE_PATH}/kitten.jpg\")\n",
    "print(cat2.size)\n",
    "plt.imshow(cat2)\n",
    "cat2.mode"
   ],
   "metadata": {
    "collapsed": false
   }
  },
  {
   "cell_type": "code",
   "execution_count": null,
   "outputs": [],
   "source": [
    "cat2 = ImageChops.invert(cat2.resize((768//3, 512//3)))\n",
    "plt.imshow(cat2)"
   ],
   "metadata": {
    "collapsed": false
   }
  },
  {
   "cell_type": "markdown",
   "source": [
    "Мы можем даже вставить одно изображение в другое. Обратите внимание, что вставка производится прямо в объект, так что нужно предварительн сделать копию, если хочется сохранить исходную картинку"
   ],
   "metadata": {
    "collapsed": false
   }
  },
  {
   "cell_type": "code",
   "execution_count": null,
   "outputs": [],
   "source": [
    "#cat2 = cat2.resize((768//3, 512//3))\n",
    "new_img = img.copy()\n",
    "new_img.paste(cat2.copy(), [450, 350])"
   ],
   "metadata": {
    "collapsed": false
   }
  },
  {
   "cell_type": "code",
   "execution_count": null,
   "outputs": [],
   "source": [
    "new_img"
   ],
   "metadata": {
    "collapsed": false
   }
  },
  {
   "cell_type": "markdown",
   "source": [
    "**Дополнительное задание**: напишите функцию, которая будет принимать на вход два изображения и добавлять в случайное место на первом второе"
   ],
   "metadata": {
    "collapsed": false
   }
  },
  {
   "cell_type": "markdown",
   "source": [],
   "metadata": {
    "collapsed": false
   }
  },
  {
   "cell_type": "markdown",
   "source": [
    "## CNN\n",
    "\n",
    "В PyTorch свёрточный слой представлен в модуле torch.nn классом Conv2d (Conv1d) с параметрами:\n",
    "\n",
    "- in_channels: количество входных каналов\n",
    "- out_channels: количество выходных каналов\n",
    "- kernel_size: размер ядра\n",
    "- stride: значение в пикселях, на который будет сдвинуто ядро на каждом следующем шаге\n",
    "- padding: значение в пикселях, ширина \"рамки\", которая будет добавлена вокруг изображения\n",
    "- padding_mode: как будет заполняться паддинг ('zeros', 'reflect' и др.)\n",
    "- dilation: шаг в пикселях, на который будет \"разрежен\" вход ядра\n",
    "\n",
    "Что это значит?\n",
    "Проще всего показать на [примерaх](https://github.com/vdumoulin/conv_arithmetic):\n",
    "Пример простейшей свертки:\n",
    "![alt text](..\\additional_materials\\images\\Convolution_arithmetic_-_Padding_strides.gif \"Stride=1, padding=0\")\n",
    "\n",
    "Если добавить паддинг, то можно, например, сохранить размер исходного изображения:\n",
    "![alt text](..\\additional_materials\\images\\same_padding_no_strides.gif \"Stride=1, padding=1\")\n",
    "\n",
    "\n"
   ],
   "metadata": {
    "collapsed": false
   }
  },
  {
   "cell_type": "markdown",
   "source": [
    "Мы будем пользоваться функцией pytorch для произведения свертки с заданным ядром (весами)."
   ],
   "metadata": {
    "collapsed": false
   }
  },
  {
   "cell_type": "code",
   "execution_count": null,
   "outputs": [],
   "source": [
    "from torch.nn.functional import conv2d"
   ],
   "metadata": {
    "collapsed": false
   }
  },
  {
   "cell_type": "markdown",
   "source": [],
   "metadata": {
    "collapsed": false
   }
  },
  {
   "cell_type": "markdown",
   "source": [
    "Рассмотрим несколько фильтров:\n",
    "\n",
    "Фильтр улучшения четкости\n",
    "[[ -1, -1, -1,],\n",
    "[  -1, 9, -1],\n",
    "[  -1, -1, -1]]\n",
    "\n",
    "Фильтр Собеля - для выявления горизонтальных ребер\n",
    "[[ -1, -1, -1,],\n",
    "[  1, 1, 1],\n",
    "[  -1, -1, -1]]\n",
    "**Вопрос**: что нужно изменить для того, чтобы выявлять вертикальные ребра?\n",
    "\n",
    "Функция ожидает на вход батчи, так что необходимо добавить новое измерение, чтобы получился виртуальный батч из 1 картинки. Кроме того, каналы должны оказаться в конце."
   ],
   "metadata": {
    "collapsed": false
   }
  },
  {
   "cell_type": "code",
   "execution_count": null,
   "outputs": [],
   "source": [
    "img_tensor = torch.tensor(img_np, dtype=torch.float)\n",
    "print(img_tensor.shape)\n",
    "img_tensor = img_tensor.permute(2, 0, 1).unsqueeze(0)\n",
    "img_tensor.size()"
   ],
   "metadata": {
    "collapsed": false
   }
  },
  {
   "cell_type": "markdown",
   "source": [
    "Потренируемся с фильтром Собеля. Нам нужно применить его ко всем каналам входного изображения, так что нужно его размножить."
   ],
   "metadata": {
    "collapsed": false
   }
  },
  {
   "cell_type": "code",
   "execution_count": null,
   "outputs": [],
   "source": [
    "kernel = [[ -1, -1, -1,],\n",
    "[  3, 3, 3],\n",
    "[  -1, -1, -1]]\n",
    "hor_filter = torch.tensor([[kernel, kernel, kernel]], dtype=torch.float)\n",
    "hor_filter.size()"
   ],
   "metadata": {
    "collapsed": false
   }
  },
  {
   "cell_type": "code",
   "execution_count": null,
   "outputs": [],
   "source": [
    "hor_result = conv2d(img_tensor, hor_filter).squeeze()\n",
    "plt.imshow(hor_result)"
   ],
   "metadata": {
    "collapsed": false
   }
  },
  {
   "cell_type": "markdown",
   "source": [
    "Задание: Создайте и примените вертикальный фильтр Собеля."
   ],
   "metadata": {
    "collapsed": false
   }
  },
  {
   "cell_type": "code",
   "execution_count": null,
   "outputs": [],
   "source": [
    "# создайте ядро, размножьте и примените)"
   ],
   "metadata": {
    "collapsed": false
   }
  },
  {
   "cell_type": "code",
   "execution_count": null,
   "outputs": [],
   "source": [
    "# выведите изображение"
   ],
   "metadata": {
    "collapsed": false
   }
  },
  {
   "cell_type": "markdown",
   "source": [
    "**Задание.** Объединим результаты, получив представление всех ребер)\n",
    "Например, это можно сделать, посчитав сумму квадратов результатов"
   ],
   "metadata": {
    "collapsed": false
   }
  },
  {
   "cell_type": "code",
   "execution_count": null,
   "outputs": [],
   "source": [
    "img_conv = # сумма квадратов результатов верт. и хор. фильтров\n",
    "plt.imshow(img_conv)\n",
    "plt.show()"
   ],
   "metadata": {
    "collapsed": false
   }
  },
  {
   "cell_type": "markdown",
   "source": [
    "Если мы попытаемя сделать также с фильтром усиления четкости, то получим одноканальное изображение. Это не очень хорошо. Мы хотим получить такую же картинку, как на входе, но четче. Простейший вариант - применить фильтр к каждому каналу отдельно. Попробуем сделать это.\n"
   ],
   "metadata": {
    "collapsed": false
   }
  },
  {
   "cell_type": "code",
   "execution_count": null,
   "outputs": [],
   "source": [
    "sharp_kernel = [[ -1, -1, -1,],\n",
    "[  -1, 9, -1],\n",
    "[  -1, -1, -1]]\n",
    "weights = torch.tensor(sharp_kernel, dtype=torch.float).unsqueeze(0).unsqueeze(0)\n",
    "res = torch.stack([conv2d(img_tensor[:, i,...], weights, padding=1) for i in range(3)], dim=1)"
   ],
   "metadata": {
    "collapsed": false
   }
  },
  {
   "cell_type": "code",
   "execution_count": null,
   "outputs": [],
   "source": [
    "plt.imshow(res.squeeze().permute(1,2,0).clip(0, 255).to(torch.int))"
   ],
   "metadata": {
    "collapsed": false
   }
  },
  {
   "cell_type": "markdown",
   "source": [
    "Однако, это не единственный способ. Можно воспользоваться depth-wise convolution. Обычная свертка делается сразу по всем каналам и мешает их как угодно. depth-wise convolution же, в свою очередь, делает следующие три шага:\n",
    "- Разбивает фильтр и и вход на каналы\n",
    "- Сворачивает дый канал отдельно соответствующим фильтром\n",
    "- Конкатенирует результат\n",
    "\n",
    "В torch.nn это уже реализовано в conv2d (Conv2d) с помощью параметра groups. На самом деле, эта возможность достаточно мощная. Она позволяет как уменьшить число параметров, сохраняя точность, так и применять группы сверток параллельно. Это очень полезно - чуть позже мы узнаем, какая модель, основанная на этой простой идее, когда-то порвала все лидерборды."
   ],
   "metadata": {
    "collapsed": false
   }
  },
  {
   "cell_type": "markdown",
   "source": [
    "**Задание**: Примените ядро усиления четкости к трем каналам картинки с использованием параметра groups."
   ],
   "metadata": {
    "collapsed": false
   }
  },
  {
   "cell_type": "code",
   "execution_count": null,
   "outputs": [],
   "source": [
    "sharp_kernel = # опишите ядро\n",
    "weights = torch.tensor([sharp_kernel, sharp_kernel,sharp_kernel], dtype=torch.float)\n",
    "weights = # добавьте новое измерение. Обратите внимание, что для depthwise-conv нужно формировать ядро так, чтобы батч был вторым"
   ],
   "metadata": {
    "collapsed": false
   }
  },
  {
   "cell_type": "code",
   "execution_count": null,
   "outputs": [],
   "source": [
    "sharp_result = conv2d(img_tensor, weights, padding=1, groups=3)\n",
    "plt.imshow(sharp_result.squeeze().permute(1,2,0).clip(0, 255).to(torch.int))"
   ],
   "metadata": {
    "collapsed": false
   }
  },
  {
   "cell_type": "markdown",
   "source": [
    "**Задание**: Реализуйте и примените случайный фильтр\n",
    "**Дополнительное задание**: Реализуйте и примените гауссовский фильтр. Этот фильтр дожен приводить к размытию входного изображения"
   ],
   "metadata": {
    "collapsed": false
   }
  },
  {
   "cell_type": "markdown",
   "source": [
    "Рассмотрим теперь слой nn.Conv2d. Синтаксис при его инстанциировании практически такой же, как у функции. Сверточный слой обучаемый, матрица весов инициализируется с помощью стратегии инициализации. Пользователю же необходимо задать входное и выходное число каналов и размер ядра.\n"
   ],
   "metadata": {
    "collapsed": false
   }
  },
  {
   "cell_type": "code",
   "execution_count": null,
   "outputs": [],
   "source": [
    "from torch import nn\n",
    "\n",
    "conv = nn.Conv2d(in_channels=3, out_channels=3, kernel_size=3, padding=1)"
   ],
   "metadata": {
    "collapsed": false
   }
  },
  {
   "cell_type": "code",
   "execution_count": null,
   "outputs": [],
   "source": [
    "conv.weight.shape"
   ],
   "metadata": {
    "collapsed": false
   }
  },
  {
   "cell_type": "markdown",
   "source": [
    "Посмотрим на результат:"
   ],
   "metadata": {
    "collapsed": false
   }
  },
  {
   "cell_type": "code",
   "execution_count": null,
   "outputs": [],
   "source": [
    "sharp_result = conv(img_tensor)\n",
    "plt.imshow(sharp_result.squeeze().permute(1,2,0).clip(0, 255).to(torch.int))"
   ],
   "metadata": {
    "collapsed": false
   }
  },
  {
   "cell_type": "code",
   "execution_count": null,
   "outputs": [],
   "source": [
    "from torch import nn\n",
    "\n",
    "conv = nn.Conv2d(in_channels=3, out_channels=3, kernel_size=3, padding=1, groups=3)\n",
    "result = conv(img_tensor)\n",
    "plt.imshow(result.squeeze().permute(1,2,0).clip(0, 255).to(torch.int))"
   ],
   "metadata": {
    "collapsed": false
   }
  },
  {
   "cell_type": "markdown",
   "source": [
    " Вторая часть занятия пройдет в отдельном ноутбуке, simple_cnn_model"
   ],
   "metadata": {
    "collapsed": false
   }
  },
  {
   "cell_type": "code",
   "execution_count": null,
   "outputs": [],
   "source": [],
   "metadata": {
    "collapsed": false
   }
  }
 ],
 "metadata": {
  "kernelspec": {
   "display_name": "Python 3",
   "language": "python",
   "name": "python3"
  },
  "language_info": {
   "codemirror_mode": {
    "name": "ipython",
    "version": 2
   },
   "file_extension": ".py",
   "mimetype": "text/x-python",
   "name": "python",
   "nbconvert_exporter": "python",
   "pygments_lexer": "ipython2",
   "version": "2.7.6"
  }
 },
 "nbformat": 4,
 "nbformat_minor": 0
}
