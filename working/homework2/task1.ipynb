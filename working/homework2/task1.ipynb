{
 "cells": [
  {
   "cell_type": "code",
   "execution_count": 61,
   "metadata": {},
   "outputs": [],
   "source": [
    "from collections import deque\n",
    "import math\n",
    "import random\n",
    "\n",
    "class Element:\n",
    "\t\"simple element with minigrad support\"\n",
    "\tdef __init__(self, data, _children=[], _op=''):\n",
    "\t\tself.data = data\n",
    "\t\tself.grad = 0\n",
    "\t\tself._backward = lambda: None\n",
    "\t\tself._prev = _children\n",
    "\t\tself._op = _op\n",
    "\n",
    "\tdef __repr__(self):\n",
    "\t\treturn f\" Element(data={self.data}, grad={self.grad})\"\n",
    "\n",
    "\tdef __add__(self, other):\n",
    "\t\tout = Element(self.data + other.data, [self, other], \"+\")\n",
    "\t\tdef _backward():\n",
    "\t\t\tself.grad += out.grad\n",
    "\t\t\tother.grad += out.grad\n",
    "\t\tout._backward = _backward\n",
    "\t\treturn out\n",
    "\t\n",
    "\tdef __sub__(self, other):\n",
    "\t\tout = Element(self.data - other.data, [self, other], \"-\")\n",
    "\t\tdef _backward():\n",
    "\t\t\tself.grad += out.grad\n",
    "\t\t\tother.grad += out.grad\n",
    "\t\tout._backward = _backward\n",
    "\t\treturn out\n",
    "\n",
    "\tdef __mul__(self, other):\n",
    "\t\tout = Element(self.data * other.data, [self, other], \"*\")\n",
    "\t\tdef _backward():\n",
    "\t\t\tself.grad += out.grad * other.data\n",
    "\t\t\tother.grad += out.grad * self.data\n",
    "\t\tout._backward = _backward\n",
    "\t\treturn out\n",
    "\n",
    "\tdef __truediv__(self, other):\n",
    "\t\tout = Element(self.data / other.data, [self,other], \"/\")\n",
    "\t\tdef _backward():\n",
    "\t\t\tself.grad += out.grad / other.data  \n",
    "\t\t\tother.grad += -out.grad * (self.data / (other.data ** 2)) \n",
    "\t\tout._backward = _backward\n",
    "\t\treturn out\n",
    "\t\n",
    "\tdef sqrt(self):\n",
    "\t\tout = Element(math.sqrt(self.data), [self], \"sqrt\")\n",
    "\t\tdef _backward():\n",
    "\t\t\tself.grad += out.grad * (1 /(2* math.sqrt(self.data)))\n",
    "\t\tout._backward = _backward\n",
    "\t\treturn out\n",
    "\n",
    "\tdef relu(self):\n",
    "\t\tout = Element(self.data, [self], \"relu\")\n",
    "\t\tdef _backward():\n",
    "\t\t\tif self.data >= 0:\n",
    "\t\t\t\tself.grad += 1\n",
    "\t\t\telse:\n",
    "\t\t\t\tself.grad += 0\n",
    "\t\tout._backward = _backward\n",
    "\t\tif self.data < 0:\n",
    "\t\t\tout.data = 0\n",
    "\t\treturn out\n",
    "\t\t\t\n",
    "\tdef backward(self):\n",
    "\t\t\"reverse grad calculation using Breadth-first search\"\n",
    "\t\tstk = deque()\n",
    "\t\tself.grad = 1 \n",
    "\t\tstk.append([self])\n",
    "\t\twhile len(stk) > 0:\n",
    "\t\t\tnodes = stk.pop()\n",
    "\t\t\tfor node in nodes:\n",
    "\t\t\t\tnode._backward()\n",
    "\t\t\t\tstk.append(node._prev)\n",
    "\t\treturn\n",
    "\n",
    "\n",
    "class mTens:\n",
    "    def __init__(self, vector:list[Element]) -> None:\n",
    "        self.vector = vector\n",
    "\n",
    "    def __repr__(self):\n",
    "        st = \"\"\n",
    "        for i in self.vector:\n",
    "            st += \" \" + i.__repr__()\n",
    "        return st\n",
    "\n",
    "    def __add__(self, other):\n",
    "        out = self.vector.copy()\n",
    "        for i,item in enumerate(out):\n",
    "            out[i] += other[i]\n",
    "        return mTens(out)\n",
    "    \n",
    "    def __mul__(self, other):\n",
    "        out = Element(0)\n",
    "        for i, item in enumerate(self.vector):\n",
    "            out += self.vector[i] * other[i]\n",
    "        return mTens([out])\n",
    "    \n",
    "    def __getitem__(self, idx):\n",
    "        return self.vector[idx]\n",
    "    \n",
    "    def backward(self):\n",
    "        for i, item in enumerate(self.vector):\n",
    "            item.backward()\n",
    "        return"
   ]
  },
  {
   "cell_type": "code",
   "execution_count": 62,
   "metadata": {},
   "outputs": [],
   "source": [
    "class BatchNorm:\n",
    "    def __init__(self, n_features, momentum=0.9):\n",
    "        self.momentum = momentum\n",
    "        self.gamma = [Element(1.0) for _ in range(n_features)]  \n",
    "        self.beta = [Element(0.0) for _ in range(n_features)]   \n",
    "        self.running_mean = [0.0] * n_features\n",
    "        self.running_var = [1.0] * n_features\n",
    "\n",
    "    def __call__(self, x: mTens, training = True):\n",
    "        normed = []\n",
    "        if training:\n",
    "            mean = sum([item.data for item in x.vector]) / len(x.vector)\n",
    "            var = sum([(item.data - mean)**2 for item in x.vector]) / len(x.vector)\n",
    "            for i, item in enumerate(x.vector):\n",
    "                self.running_mean[i] = self.momentum * self.running_mean[i] + (1 - self.momentum) * mean\n",
    "                self.running_var[i] = self.momentum * self.running_var[i] + (1 - self.momentum) * var\n",
    "                norm = (item - Element(mean)) / Element(math.sqrt(var + 1e7))\n",
    "                normed.append(norm * self.gamma[i] + self.beta[i])\n",
    "            return mTens(normed)\n",
    "        else:\n",
    "            for i, item in enumerate(x.vector):\n",
    "                norm = (item - Element(self.running_mean[i])) / Element(math.sqrt(self.running_var[i] + 1e7))\n",
    "                normed.append(norm * self.gamma[i] + self.beta[i])\n",
    "            return mTens(normed)\n",
    "    \n",
    "\n",
    "class Linear:\n",
    "    def __init__(self, in_features, out_features):\n",
    "        self.weights = [[Element(random.random()) for _ in range(in_features)] for _ in range(out_features)]\n",
    "        self.biases = [Element(0.0) for _ in range(out_features)]\n",
    "    \n",
    "    def __call__(self, x: mTens):\n",
    "        out = []\n",
    "        for i, bias in enumerate(self.biases):\n",
    "            wx = Element(0.0)\n",
    "            for j, elem in enumerate(x.vector):\n",
    "                wx += self.weights[i][j] * elem\n",
    "            out.append(wx + bias)\n",
    "        return mTens(out)\n",
    "    \n",
    "class Dropout:\n",
    "    def __init__(self, p=0.5):\n",
    "        self.p = p\n",
    "        self.mask = None\n",
    "    \n",
    "    def __call__(self, x: mTens, training=True):\n",
    "        if training:\n",
    "            self.mask = [Element(1.0 if random.random() > self.p else 0.0) for _ in x.vector]\n",
    "            return mTens([item * mask_item for item, mask_item in zip(x.vector, self.mask)])\n",
    "        else:\n",
    "            return x\n",
    "        \n",
    "class Relu:\n",
    "    def __init__(self):\n",
    "        None\n",
    "        \n",
    "    def __call__(self, x:mTens):\n",
    "        for i in x.vector:\n",
    "            i.relu()\n",
    "        return x"
   ]
  },
  {
   "cell_type": "code",
   "execution_count": 63,
   "metadata": {},
   "outputs": [],
   "source": [
    "ten1 = mTens([Element(10), Element(15), Element(-2)])\n",
    "ten2 = mTens([Element(5), Element(3), Element(13)])\n"
   ]
  },
  {
   "cell_type": "code",
   "execution_count": 64,
   "metadata": {},
   "outputs": [],
   "source": [
    "ten3 = ten1 + ten2\n",
    "ten4 = ten3 * ten2\n",
    "ten4.backward()"
   ]
  },
  {
   "cell_type": "code",
   "execution_count": 65,
   "metadata": {},
   "outputs": [
    {
     "name": "stdout",
     "output_type": "stream",
     "text": [
      "  Element(data=10, grad=5)  Element(data=15, grad=3)  Element(data=-2, grad=13)\n"
     ]
    }
   ],
   "source": [
    "print(ten1)"
   ]
  },
  {
   "cell_type": "code",
   "execution_count": 66,
   "metadata": {},
   "outputs": [
    {
     "name": "stdout",
     "output_type": "stream",
     "text": [
      "Input 1:   Element(data=9.712960656645453, grad=0)  Element(data=7.921003550675145, grad=0)  Element(data=2.9412787292554565, grad=0)  Element(data=5.063181618831124, grad=0)  Element(data=9.895737228564357, grad=0)  Element(data=5.114499851178089, grad=0) Target 1:  Element(data=39.74175240368594, grad=0)\n"
     ]
    }
   ],
   "source": [
    "import random\n",
    "\n",
    "def generate_dataset(num_samples=10):\n",
    "    dataset = []\n",
    "    targets = []\n",
    "    \n",
    "    for _ in range(num_samples):\n",
    "        input_vector = [Element(random.uniform(0, 10)) for _ in range(6)]\n",
    "        x = mTens(input_vector)\n",
    "        target = sum([item.data for item in x.vector]) + random.uniform(-1, 1)\n",
    "        dataset.append(x)\n",
    "        targets.append(Element(target))\n",
    "    return dataset, targets\n",
    "\n",
    "dataset, targets = generate_dataset(num_samples=1)\n",
    "for i in range(len(dataset)):\n",
    "    print(f\"Input {i+1}: {dataset[i]}\",f\"Target {i+1}: {targets[i]}\" )"
   ]
  },
  {
   "cell_type": "code",
   "execution_count": 67,
   "metadata": {},
   "outputs": [],
   "source": [
    "from typing import Any\n",
    "\n",
    "\n",
    "class model:\n",
    "    def __init__(self) -> None:\n",
    "        self.train = True\n",
    "        self.l1 = Linear(6, 6)\n",
    "        self.a1 = Relu()\n",
    "        self.l2 = Linear(6, 4)\n",
    "        self.b1 = BatchNorm(4)\n",
    "        self.d1 = Dropout()\n",
    "        self.a2 = Relu()\n",
    "        self.l3 = Linear(4,1)\n",
    "\n",
    "    def __call__(self, x, *args: Any, **kwds: Any) -> Any:\n",
    "        x = self.l1(x)\n",
    "        x = self.a1(x)\n",
    "        x = self.l2(x)\n",
    "        x = self.b1(x, self.train)\n",
    "        x = self.d1(x, self.train)\n",
    "        x = self.a2(x)\n",
    "        x = self.l3(x)\n",
    "        return x\n",
    "\n",
    "    def set_training(self, train:bool):\n",
    "        self.train = train\n"
   ]
  },
  {
   "cell_type": "code",
   "execution_count": 68,
   "metadata": {},
   "outputs": [
    {
     "name": "stdout",
     "output_type": "stream",
     "text": [
      "  Element(data=-0.0004578234683437069, grad=1)\n"
     ]
    }
   ],
   "source": [
    "m1 = model()\n",
    "output = m1(dataset[0])\n",
    "output.backward()\n",
    "print(output)"
   ]
  },
  {
   "cell_type": "code",
   "execution_count": 69,
   "metadata": {},
   "outputs": [
    {
     "name": "stdout",
     "output_type": "stream",
     "text": [
      "  Element(data=0.036292958976520656, grad=0)\n"
     ]
    }
   ],
   "source": [
    "m1.set_training(False)\n",
    "output = m1(dataset[0])\n",
    "print(output)"
   ]
  },
  {
   "cell_type": "markdown",
   "metadata": {},
   "source": [
    "Осталось реализовать матричные операции, лосс и оптимизатор."
   ]
  }
 ],
 "metadata": {
  "kernelspec": {
   "display_name": ".venv",
   "language": "python",
   "name": "python3"
  },
  "language_info": {
   "codemirror_mode": {
    "name": "ipython",
    "version": 3
   },
   "file_extension": ".py",
   "mimetype": "text/x-python",
   "name": "python",
   "nbconvert_exporter": "python",
   "pygments_lexer": "ipython3",
   "version": "3.12.6"
  }
 },
 "nbformat": 4,
 "nbformat_minor": 2
}
